{
  "nbformat": 4,
  "nbformat_minor": 0,
  "metadata": {
    "colab": {
      "name": "神经网络工具箱nn.ipynb",
      "version": "0.3.2",
      "provenance": [],
      "collapsed_sections": [
        "RD3_xaEGo0Sj",
        "dRlBxmWMUpln",
        "fcalsFlGXVwO",
        "qkpV2crfYFlS",
        "g3PCkDFGH9zG",
        "rdWqrPMr1ss4",
        "q0NBLofO3fu6"
      ],
      "include_colab_link": true
    },
    "kernelspec": {
      "name": "python3",
      "display_name": "Python 3"
    },
    "accelerator": "GPU"
  },
  "cells": [
    {
      "cell_type": "markdown",
      "metadata": {
        "id": "view-in-github",
        "colab_type": "text"
      },
      "source": [
        "<a href=\"https://colab.research.google.com/github/duwei0227/pytorch-book-learning/blob/master/chapter4-%E7%A5%9E%E7%BB%8F%E7%BD%91%E7%BB%9C%E5%B7%A5%E5%85%B7%E7%AE%B1nn/%E7%A5%9E%E7%BB%8F%E7%BD%91%E7%BB%9C%E5%B7%A5%E5%85%B7%E7%AE%B1nn.ipynb\" target=\"_parent\"><img src=\"https://colab.research.google.com/assets/colab-badge.svg\" alt=\"Open In Colab\"/></a>"
      ]
    },
    {
      "cell_type": "code",
      "metadata": {
        "id": "Q_ZYVKQmjOJb",
        "colab_type": "code",
        "outputId": "3fc589a8-6739-453c-e178-449fac2f2d2f",
        "colab": {
          "base_uri": "https://localhost:8080/",
          "height": 122
        }
      },
      "source": [
        "from google.colab import drive\n",
        "drive.mount('/content/gdrive')"
      ],
      "execution_count": 0,
      "outputs": [
        {
          "output_type": "stream",
          "text": [
            "Go to this URL in a browser: https://accounts.google.com/o/oauth2/auth?client_id=947318989803-6bn6qk8qdgf4n4g3pfee6491hc0brc4i.apps.googleusercontent.com&redirect_uri=urn%3Aietf%3Awg%3Aoauth%3A2.0%3Aoob&scope=email%20https%3A%2F%2Fwww.googleapis.com%2Fauth%2Fdocs.test%20https%3A%2F%2Fwww.googleapis.com%2Fauth%2Fdrive%20https%3A%2F%2Fwww.googleapis.com%2Fauth%2Fdrive.photos.readonly%20https%3A%2F%2Fwww.googleapis.com%2Fauth%2Fpeopleapi.readonly&response_type=code\n",
            "\n",
            "Enter your authorization code:\n",
            "··········\n",
            "Mounted at /content/gdrive\n"
          ],
          "name": "stdout"
        }
      ]
    },
    {
      "cell_type": "code",
      "metadata": {
        "id": "Ba31nIFEU9YF",
        "colab_type": "code",
        "colab": {}
      },
      "source": [
        "import os\n",
        "os.chdir('/content/gdrive/My Drive/Notebook')"
      ],
      "execution_count": 0,
      "outputs": []
    },
    {
      "cell_type": "code",
      "metadata": {
        "id": "MjHCMUsfUPrM",
        "colab_type": "code",
        "colab": {}
      },
      "source": [
        "import torch\n",
        "from torch import nn"
      ],
      "execution_count": 0,
      "outputs": []
    },
    {
      "cell_type": "code",
      "metadata": {
        "id": "FRxKrQeTkcIt",
        "colab_type": "code",
        "colab": {}
      },
      "source": [
        "class Linear(nn.Module):\n",
        "  def __init__(self, in_features, out_features):\n",
        "    super(Linear, self).__init__()\n",
        "    self.w = nn.Parameter(torch.randn(in_features, out_features))\n",
        "    self.b = nn.Parameter(torch.randn(out_features))\n",
        "    \n",
        "  def forward(self, x):\n",
        "    x = x.mm(self.w) # 矩阵相乘\n",
        "    return x + self.b.expand_as(x)"
      ],
      "execution_count": 0,
      "outputs": []
    },
    {
      "cell_type": "code",
      "metadata": {
        "id": "9a7Shmzpk_FA",
        "colab_type": "code",
        "outputId": "5f5a7a74-d5ec-401e-bf24-d10d99d63cbc",
        "colab": {
          "base_uri": "https://localhost:8080/",
          "height": 51
        }
      },
      "source": [
        "layer = Linear(4, 3)\n",
        "input = torch.randn(2, 4)\n",
        "output = layer(input)\n",
        "output"
      ],
      "execution_count": 0,
      "outputs": [
        {
          "output_type": "execute_result",
          "data": {
            "text/plain": [
              "tensor([[ 0.4319,  2.9580, -1.4187],\n",
              "        [ 1.3572,  2.1828, -2.5659]], grad_fn=<AddBackward0>)"
            ]
          },
          "metadata": {
            "tags": []
          },
          "execution_count": 5
        }
      ]
    },
    {
      "cell_type": "code",
      "metadata": {
        "id": "FPrzfPsllLDE",
        "colab_type": "code",
        "outputId": "013b9f92-ff5f-45e3-e331-9dd755086ebe",
        "colab": {
          "base_uri": "https://localhost:8080/",
          "height": 136
        }
      },
      "source": [
        "for name, parameter in layer.named_parameters():\n",
        "  print(name, parameter)"
      ],
      "execution_count": 0,
      "outputs": [
        {
          "output_type": "stream",
          "text": [
            "w Parameter containing:\n",
            "tensor([[ 0.8692,  0.9701, -1.2517],\n",
            "        [-0.6148,  0.9721,  1.1827],\n",
            "        [-1.3046,  0.2824,  0.1790],\n",
            "        [-0.9784, -0.8796,  0.0396]], requires_grad=True)\n",
            "b Parameter containing:\n",
            "tensor([ 0.4731,  1.9315, -0.4412], requires_grad=True)\n"
          ],
          "name": "stdout"
        }
      ]
    },
    {
      "cell_type": "code",
      "metadata": {
        "id": "b8sdnNotPpkq",
        "colab_type": "code",
        "colab": {}
      },
      "source": [
        "class Perception(nn.Module):\n",
        "  def __init__(self, in_features, hidden_features, out_features):\n",
        "    super(Perception, self).__init__()\n",
        "    \n",
        "    self.layer1 = Linear(in_features, hidden_features)\n",
        "    self.layer2 = Linear(hidden_features, out_features)\n",
        "    \n",
        "  def forward(self, x):\n",
        "    x = self.layer1(x)\n",
        "    x = torch.sigmoid(x)\n",
        "    return self.layer2(x)"
      ],
      "execution_count": 0,
      "outputs": []
    },
    {
      "cell_type": "code",
      "metadata": {
        "id": "iIEZb1nJQWyr",
        "colab_type": "code",
        "outputId": "eaf1185c-45c1-428e-f679-214f5110057a",
        "colab": {
          "base_uri": "https://localhost:8080/",
          "height": 238
        }
      },
      "source": [
        "perception = Perception(3, 4, 1)\n",
        "for name, param in perception.named_parameters():\n",
        "  print(name, param)"
      ],
      "execution_count": 0,
      "outputs": [
        {
          "output_type": "stream",
          "text": [
            "layer1.w Parameter containing:\n",
            "tensor([[-0.4712, -1.7427, -0.8316, -0.2081],\n",
            "        [-0.4200, -0.1247, -0.7281,  1.4491],\n",
            "        [ 1.3213,  1.7658, -0.4028,  0.8004]], requires_grad=True)\n",
            "layer1.b Parameter containing:\n",
            "tensor([-0.1495, -1.5098,  0.0135, -0.3316], requires_grad=True)\n",
            "layer2.w Parameter containing:\n",
            "tensor([[-1.0642],\n",
            "        [-0.9523],\n",
            "        [-1.7319],\n",
            "        [ 1.1138]], requires_grad=True)\n",
            "layer2.b Parameter containing:\n",
            "tensor([0.2803], requires_grad=True)\n"
          ],
          "name": "stdout"
        }
      ]
    },
    {
      "cell_type": "markdown",
      "metadata": {
        "id": "teUb1y1eSFPa",
        "colab_type": "text"
      },
      "source": [
        "### 常用神经网络"
      ]
    },
    {
      "cell_type": "markdown",
      "metadata": {
        "id": "7zN7SNe1SIve",
        "colab_type": "text"
      },
      "source": [
        "#### 图像相关层\n",
        "主要包括卷积层(Conv)、池化层(Pool)等，这些层在实际使用中可以分为一维(1D)、二维(2D)、三维(3D)，池化层又可分为平均池化(AvgPool)、最大池化(MaxPool)、自适应池化(AdaptiveAvgPool)等"
      ]
    },
    {
      "cell_type": "code",
      "metadata": {
        "id": "hrkilraSSGxF",
        "colab_type": "code",
        "colab": {}
      },
      "source": [
        "from PIL import Image\n",
        "from torchvision.transforms import ToTensor, ToPILImage"
      ],
      "execution_count": 0,
      "outputs": []
    },
    {
      "cell_type": "code",
      "metadata": {
        "id": "Cy7VJW56TRZM",
        "colab_type": "code",
        "outputId": "9c93c748-924b-4691-f5c2-ab6c06de06be",
        "colab": {
          "base_uri": "https://localhost:8080/",
          "height": 217
        }
      },
      "source": [
        "to_tensor = ToTensor()  # img -> tensor\n",
        "to_pil = ToPILImage()  # tensor -> img\n",
        "lena = Image.open('images/lena.png')\n",
        "lena"
      ],
      "execution_count": 0,
      "outputs": [
        {
          "output_type": "execute_result",
          "data": {
            "image/png": "[encoded data removed]",
            "text/plain": [
              "<PIL.PngImagePlugin.PngImageFile image mode=L size=200x200 at 0x7F0120A83F28>"
            ]
          },
          "metadata": {
            "tags": []
          },
          "execution_count": 10
        }
      ]
    },
    {
      "cell_type": "code",
      "metadata": {
        "id": "kokoYM64VEYV",
        "colab_type": "code",
        "outputId": "c3166a0f-a98f-4731-f2cf-b848326a0a4e",
        "colab": {
          "base_uri": "https://localhost:8080/",
          "height": 215
        }
      },
      "source": [
        "# 输入是一个batch， batch_size = 1\n",
        "input = to_tensor(lena).unsqueeze(0)\n",
        "\n",
        "# 锐化卷积核\n",
        "kernel = torch.ones(3, 3) / -9\n",
        "kernel[1][1] = 1\n",
        "\n",
        "conv = nn.Conv2d(in_channels=1, out_channels=1, kernel_size=(3, 3), stride=1, bias=False)\n",
        "conv.weight.data = kernel.view(1, 1, 3, 3)\n",
        "\n",
        "out = conv(input)\n",
        "to_pil(out.data.squeeze(0))"
      ],
      "execution_count": 0,
      "outputs": [
        {
          "output_type": "execute_result",
          "data": {
            "image/png": "[encoded data removed]",
            "text/plain": [
              "<PIL.Image.Image image mode=L size=198x198 at 0x7F0187B0DB38>"
            ]
          },
          "metadata": {
            "tags": []
          },
          "execution_count": 11
        }
      ]
    },
    {
      "cell_type": "markdown",
      "metadata": {
        "id": "fV9RmUJ4Xvpe",
        "colab_type": "text"
      },
      "source": [
        "图像卷积操作其他变种：[https://github.com/vdumoulin/conv_arithmetic/blob/master/README.md](https://github.com/vdumoulin/conv_arithmetic/blob/master/README.md)  \n",
        "池化层可以看做是一种特殊的卷积层，用来下采样。但池化层没有可学习参数，其weight是固定的。"
      ]
    },
    {
      "cell_type": "code",
      "metadata": {
        "id": "qZQSO-b8X73y",
        "colab_type": "code",
        "outputId": "af91a3e1-bbbf-4464-a8c7-9b1d833f23f4",
        "colab": {
          "base_uri": "https://localhost:8080/",
          "height": 34
        }
      },
      "source": [
        "pool = nn.AvgPool2d(2, 2)\n",
        "list(pool.parameters())"
      ],
      "execution_count": 0,
      "outputs": [
        {
          "output_type": "execute_result",
          "data": {
            "text/plain": [
              "[]"
            ]
          },
          "metadata": {
            "tags": []
          },
          "execution_count": 12
        }
      ]
    },
    {
      "cell_type": "code",
      "metadata": {
        "id": "WWklu47IVYEN",
        "colab_type": "code",
        "outputId": "fa835dd7-e1eb-4604-d829-b8460ea5e9e8",
        "colab": {
          "base_uri": "https://localhost:8080/",
          "height": 117
        }
      },
      "source": [
        "out = pool(input)\n",
        "to_pil(out.data.squeeze(0))"
      ],
      "execution_count": 0,
      "outputs": [
        {
          "output_type": "execute_result",
          "data": {
            "image/png": "[encoded data removed]",
            "text/plain": [
              "<PIL.Image.Image image mode=L size=100x100 at 0x7F01208E1BA8>"
            ]
          },
          "metadata": {
            "tags": []
          },
          "execution_count": 13
        }
      ]
    },
    {
      "cell_type": "markdown",
      "metadata": {
        "id": "iPHzY9DdbnoK",
        "colab_type": "text"
      },
      "source": [
        "除了卷积层和池化层外，神经网络常用到的其他层：\n",
        "* Linear： 全连接层\n",
        "* BatchNorm： 批规范化层，分为1D、2D和3D。还有风格迁移中常用到的InstanceNorm层\n",
        "* Dropout层 ：用来防止过拟合，同样分为1D、2D和3D"
      ]
    },
    {
      "cell_type": "code",
      "metadata": {
        "id": "fPmgtGnoVxrC",
        "colab_type": "code",
        "outputId": "6d7d7f47-ac10-425d-ce90-1c4023018536",
        "colab": {
          "base_uri": "https://localhost:8080/",
          "height": 51
        }
      },
      "source": [
        "# 输入batch_size=2，维度3\n",
        "input = torch.randn(2, 3)\n",
        "linear = nn.Linear(in_features=3, out_features=4)\n",
        "h = linear(input)\n",
        "h"
      ],
      "execution_count": 0,
      "outputs": [
        {
          "output_type": "execute_result",
          "data": {
            "text/plain": [
              "tensor([[-0.0448,  0.0235,  0.1963,  0.7720],\n",
              "        [ 0.2922,  0.3372,  1.7451,  0.4181]], grad_fn=<AddmmBackward>)"
            ]
          },
          "metadata": {
            "tags": []
          },
          "execution_count": 14
        }
      ]
    },
    {
      "cell_type": "code",
      "metadata": {
        "id": "WRDDhvAMoG-H",
        "colab_type": "code",
        "outputId": "5ec110c0-c673-4c6c-9729-c92ee57ad910",
        "colab": {
          "base_uri": "https://localhost:8080/",
          "height": 68
        }
      },
      "source": [
        "# 4 channel 初始化标准差为4，方差为0\n",
        "bn = nn.BatchNorm1d(4)\n",
        "bn.weight.data = torch.ones(4) * 4\n",
        "bn.bias.data = torch.zeros(4)\n",
        "\n",
        "bn_out = bn(h)\n",
        "# 方差是标准差的平方，计算无偏方差分母会减1，使用unbiased=False,分母不减1\n",
        "bn_out.mean(0), bn_out.var(0, unbiased=False)"
      ],
      "execution_count": 0,
      "outputs": [
        {
          "output_type": "execute_result",
          "data": {
            "text/plain": [
              "(tensor([ 0.0000e+00,  2.3842e-07, -1.1921e-07,  7.1526e-07],\n",
              "        grad_fn=<MeanBackward2>),\n",
              " tensor([15.9944, 15.9935, 15.9997, 15.9949], grad_fn=<VarBackward1>))"
            ]
          },
          "metadata": {
            "tags": []
          },
          "execution_count": 15
        }
      ]
    },
    {
      "cell_type": "code",
      "metadata": {
        "id": "Cawn6GBuoPpW",
        "colab_type": "code",
        "outputId": "3b499f20-cc10-40eb-9552-68f65c300a3a",
        "colab": {
          "base_uri": "https://localhost:8080/",
          "height": 51
        }
      },
      "source": [
        "# 每个元素以0.5的概率舍弃\n",
        "dropout = nn.Dropout(0.5)\n",
        "o = dropout(bn_out)\n",
        "o"
      ],
      "execution_count": 0,
      "outputs": [
        {
          "output_type": "execute_result",
          "data": {
            "text/plain": [
              "tensor([[-0.0000, -0.0000, -7.9999,  0.0000],\n",
              "        [ 0.0000,  7.9984,  7.9999, -0.0000]], grad_fn=<MulBackward0>)"
            ]
          },
          "metadata": {
            "tags": []
          },
          "execution_count": 16
        }
      ]
    },
    {
      "cell_type": "markdown",
      "metadata": {
        "id": "RD3_xaEGo0Sj",
        "colab_type": "text"
      },
      "source": [
        "#### 激活函数\n",
        "\n",
        "$$ReLU = max(0, x)$$"
      ]
    },
    {
      "cell_type": "code",
      "metadata": {
        "id": "0zoqlH6aDXad",
        "colab_type": "code",
        "outputId": "55596ee2-dd04-4ec3-edef-1433654d14c3",
        "colab": {
          "base_uri": "https://localhost:8080/",
          "height": 85
        }
      },
      "source": [
        "relu = nn.ReLU(inplace=True)\n",
        "input = torch.randn(2, 3)\n",
        "print(input)\n",
        "output = relu(input)\n",
        "print(output)  # 小于0的被截断\n",
        "# 等价于input.clamp(min=0)"
      ],
      "execution_count": 0,
      "outputs": [
        {
          "output_type": "stream",
          "text": [
            "tensor([[-0.6461,  0.6096, -0.6527],\n",
            "        [ 0.7026, -0.4065, -0.5032]])\n",
            "tensor([[0.0000, 0.6096, 0.0000],\n",
            "        [0.7026, 0.0000, 0.0000]])\n"
          ],
          "name": "stdout"
        }
      ]
    },
    {
      "cell_type": "markdown",
      "metadata": {
        "id": "DxImTaPWpagl",
        "colab_type": "text"
      },
      "source": [
        "ReLU函数有个inplace参数，如果设为true，它会把输出直接覆盖到输入，这样可以减少内存/显存。但是只有少数的autograd操作支持inplace(tensor.sigmoid_)，除非明确知道，否则一般不使用inplace操作"
      ]
    },
    {
      "cell_type": "code",
      "metadata": {
        "id": "vcE0cO8opQdv",
        "colab_type": "code",
        "outputId": "e13a0f79-ad89-4d0d-9e36-7eb59bae1b89",
        "colab": {
          "base_uri": "https://localhost:8080/",
          "height": 272
        }
      },
      "source": [
        "# Sequential 的三种写法\n",
        "net1 = nn.Sequential()\n",
        "net1.add_module('conv', nn.Conv2d(3, 3, 3))\n",
        "net1.add_module('batchnorm', nn.BatchNorm2d(3))\n",
        "net1.add_module('activation_layer', nn.ReLU())\n",
        "\n",
        "net2 = nn.Sequential(\n",
        "  nn.Conv2d(3, 3, 3),\n",
        "    nn.BatchNorm2d(3),\n",
        "    nn.ReLU()\n",
        ")\n",
        "\n",
        "from collections import OrderedDict\n",
        "net3 = nn.Sequential(\n",
        "  OrderedDict([\n",
        "      ('conv1', nn.Conv2d(3, 3, 3)),\n",
        "      ('bn1', nn.BatchNorm2d(3)),\n",
        "      ('relu1', nn.ReLU())\n",
        "  ])\n",
        ")\n",
        "\n",
        "print('net1:', net1)\n",
        "print('net2:', net2)\n",
        "print('net3:', net3)"
      ],
      "execution_count": 0,
      "outputs": [
        {
          "output_type": "stream",
          "text": [
            "net1: Sequential(\n",
            "  (conv): Conv2d(3, 3, kernel_size=(3, 3), stride=(1, 1))\n",
            "  (batchnorm): BatchNorm2d(3, eps=1e-05, momentum=0.1, affine=True, track_running_stats=True)\n",
            "  (activation_layer): ReLU()\n",
            ")\n",
            "net2: Sequential(\n",
            "  (0): Conv2d(3, 3, kernel_size=(3, 3), stride=(1, 1))\n",
            "  (1): BatchNorm2d(3, eps=1e-05, momentum=0.1, affine=True, track_running_stats=True)\n",
            "  (2): ReLU()\n",
            ")\n",
            "net3: Sequential(\n",
            "  (conv1): Conv2d(3, 3, kernel_size=(3, 3), stride=(1, 1))\n",
            "  (bn1): BatchNorm2d(3, eps=1e-05, momentum=0.1, affine=True, track_running_stats=True)\n",
            "  (relu1): ReLU()\n",
            ")\n"
          ],
          "name": "stdout"
        }
      ]
    },
    {
      "cell_type": "code",
      "metadata": {
        "id": "wRssN9hlqWm5",
        "colab_type": "code",
        "outputId": "f261440c-4c9a-4412-a432-20f13d656009",
        "colab": {
          "base_uri": "https://localhost:8080/",
          "height": 68
        }
      },
      "source": [
        "# 可根据名称或序号取出\n",
        "net1.conv, net2[1], net3.relu1"
      ],
      "execution_count": 0,
      "outputs": [
        {
          "output_type": "execute_result",
          "data": {
            "text/plain": [
              "(Conv2d(3, 3, kernel_size=(3, 3), stride=(1, 1)),\n",
              " BatchNorm2d(3, eps=1e-05, momentum=0.1, affine=True, track_running_stats=True),\n",
              " ReLU())"
            ]
          },
          "metadata": {
            "tags": []
          },
          "execution_count": 24
        }
      ]
    },
    {
      "cell_type": "code",
      "metadata": {
        "id": "XHF_CCicqlrE",
        "colab_type": "code",
        "outputId": "903e2880-3ddd-4893-fb72-27d6c6eafec5",
        "colab": {
          "base_uri": "https://localhost:8080/",
          "height": 153
        }
      },
      "source": [
        "input = torch.randn(1, 3, 4, 4)\n",
        "output = net1(input)\n",
        "output = net2(input)\n",
        "output = net3(input)\n",
        "output = net3.relu1(net3.bn1(net3.conv1(input)))\n",
        "output"
      ],
      "execution_count": 0,
      "outputs": [
        {
          "output_type": "execute_result",
          "data": {
            "text/plain": [
              "tensor([[[[0.0000, 0.0676],\n",
              "          [0.0359, 0.0000]],\n",
              "\n",
              "         [[0.0000, 0.0000],\n",
              "          [0.3552, 0.0000]],\n",
              "\n",
              "         [[0.0000, 0.8865],\n",
              "          [0.1247, 0.2086]]]], grad_fn=<ReluBackward0>)"
            ]
          },
          "metadata": {
            "tags": []
          },
          "execution_count": 26
        }
      ]
    },
    {
      "cell_type": "markdown",
      "metadata": {
        "id": "BTJkji39tfxb",
        "colab_type": "text"
      },
      "source": [
        "ModuleList 是Module的子类，当在Module中使用它的时候，能够自动识别为子module"
      ]
    },
    {
      "cell_type": "code",
      "metadata": {
        "id": "M93ZgALqsa6a",
        "colab_type": "code",
        "colab": {}
      },
      "source": [
        "modellist = nn.ModuleList([nn.Linear(3, 4), nn.ReLU(), nn.Linear(4, 2)])\n",
        "input = torch.randn(1, 3)\n",
        "for model in modellist:\n",
        "  input = model(input)\n",
        " \n",
        "# 下面会报错，因为modulelist没有实现forward\n",
        "# output = modellist(input)"
      ],
      "execution_count": 0,
      "outputs": []
    },
    {
      "cell_type": "code",
      "metadata": {
        "id": "HkGEV-LAtNFN",
        "colab_type": "code",
        "outputId": "0c543146-52f9-4ea9-d949-c17ab495a329",
        "colab": {
          "base_uri": "https://localhost:8080/",
          "height": 119
        }
      },
      "source": [
        "class MyModule(nn.Module):\n",
        "    def __init__(self):\n",
        "        super(MyModule, self).__init__()\n",
        "        self.list = [nn.Linear(3, 4), nn.ReLU()]\n",
        "        self.module_list = nn.ModuleList([nn.Conv2d(3, 3, 3), nn.ReLU()])\n",
        "    def forward(self):\n",
        "        pass\n",
        "model = MyModule()\n",
        "model"
      ],
      "execution_count": 0,
      "outputs": [
        {
          "output_type": "execute_result",
          "data": {
            "text/plain": [
              "MyModule(\n",
              "  (module_list): ModuleList(\n",
              "    (0): Conv2d(3, 3, kernel_size=(3, 3), stride=(1, 1))\n",
              "    (1): ReLU()\n",
              "  )\n",
              ")"
            ]
          },
          "metadata": {
            "tags": []
          },
          "execution_count": 5
        }
      ]
    },
    {
      "cell_type": "code",
      "metadata": {
        "id": "j-TACiTiTy_P",
        "colab_type": "code",
        "outputId": "d875492a-379f-4b46-ac40-e658a9db15db",
        "colab": {
          "base_uri": "https://localhost:8080/",
          "height": 51
        }
      },
      "source": [
        "for name, param in model.named_parameters():\n",
        "  print(name, param.size)"
      ],
      "execution_count": 0,
      "outputs": [
        {
          "output_type": "stream",
          "text": [
            "module_list.0.weight <built-in method size of Parameter object at 0x7fe38e316318>\n",
            "module_list.0.bias <built-in method size of Parameter object at 0x7fe38e316090>\n"
          ],
          "name": "stdout"
        }
      ]
    },
    {
      "cell_type": "markdown",
      "metadata": {
        "id": "dRlBxmWMUpln",
        "colab_type": "text"
      },
      "source": [
        "#### 循环神经网络RNN"
      ]
    },
    {
      "cell_type": "code",
      "metadata": {
        "id": "JPr_7F1qUhHT",
        "colab_type": "code",
        "outputId": "7d8c6f7f-5b2d-45fa-8a20-d6d69e670f1d",
        "colab": {
          "base_uri": "https://localhost:8080/",
          "height": 136
        }
      },
      "source": [
        "torch.manual_seed(1000)  # 设置种子数\n",
        "# 输入 batch_size = 3, 序列长度为2，序列中每个元素4维\n",
        "input = torch.randn(2, 3, 4)\n",
        "input"
      ],
      "execution_count": 0,
      "outputs": [
        {
          "output_type": "execute_result",
          "data": {
            "text/plain": [
              "tensor([[[-0.5306, -1.1300, -0.6734, -0.7669],\n",
              "         [-0.7029,  0.9896, -0.4482,  0.8927],\n",
              "         [-0.6043,  1.0726,  1.0481,  1.0527]],\n",
              "\n",
              "        [[-0.6424, -1.2234, -1.0794, -0.6037],\n",
              "         [-0.7926, -0.1414, -1.0225, -0.0482],\n",
              "         [ 0.6610, -0.8908,  1.4793, -0.3934]]])"
            ]
          },
          "metadata": {
            "tags": []
          },
          "execution_count": 10
        }
      ]
    },
    {
      "cell_type": "code",
      "metadata": {
        "id": "qW6CI8P1U6QP",
        "colab_type": "code",
        "outputId": "83f7313e-10d5-4fd7-88d8-f477071acf33",
        "colab": {
          "base_uri": "https://localhost:8080/",
          "height": 136
        }
      },
      "source": [
        "# LSTM 输入向量4维，隐藏元 3， 1层\n",
        "lstm = nn.LSTM(4, 3, 1)\n",
        "# 初始状态： 1层， batch_size=3，3个隐藏单元\n",
        "h0 = torch.randn(1, 3, 3)\n",
        "c0 = torch.randn(1, 3, 3)\n",
        "out, hn = lstm(input, (h0, c0))\n",
        "out"
      ],
      "execution_count": 0,
      "outputs": [
        {
          "output_type": "execute_result",
          "data": {
            "text/plain": [
              "tensor([[[-0.3610, -0.1643,  0.1631],\n",
              "         [-0.0613, -0.4937, -0.1642],\n",
              "         [ 0.5080, -0.4175,  0.2502]],\n",
              "\n",
              "        [[-0.0703, -0.0393, -0.0429],\n",
              "         [ 0.2085, -0.3005, -0.2686],\n",
              "         [ 0.1482, -0.4728,  0.1425]]], grad_fn=<StackBackward>)"
            ]
          },
          "metadata": {
            "tags": []
          },
          "execution_count": 13
        }
      ]
    },
    {
      "cell_type": "code",
      "metadata": {
        "id": "BRBhJH_0VeHn",
        "colab_type": "code",
        "outputId": "c0674af3-6772-43dd-e7f6-199228557acb",
        "colab": {
          "base_uri": "https://localhost:8080/",
          "height": 136
        }
      },
      "source": [
        "torch.manual_seed(1000)\n",
        "input = torch.randn(2, 3, 4)\n",
        "# 一个LSTMCell对应的层数只能是一层\n",
        "lstm = nn.LSTMCell(4, 3)\n",
        "hx = torch.randn(3, 3)\n",
        "cx = torch.randn(3, 3)\n",
        "out = []\n",
        "for i_ in input:\n",
        "  hx, cx = lstm(i_, (hx, cx))\n",
        "  out.append(hx)\n",
        "torch.stack(out)"
      ],
      "execution_count": 0,
      "outputs": [
        {
          "output_type": "execute_result",
          "data": {
            "text/plain": [
              "tensor([[[-0.3610, -0.1643,  0.1631],\n",
              "         [-0.0613, -0.4937, -0.1642],\n",
              "         [ 0.5080, -0.4175,  0.2502]],\n",
              "\n",
              "        [[-0.0703, -0.0393, -0.0429],\n",
              "         [ 0.2085, -0.3005, -0.2686],\n",
              "         [ 0.1482, -0.4728,  0.1425]]], grad_fn=<StackBackward>)"
            ]
          },
          "metadata": {
            "tags": []
          },
          "execution_count": 14
        }
      ]
    },
    {
      "cell_type": "code",
      "metadata": {
        "id": "J77RpJsMWbdu",
        "colab_type": "code",
        "outputId": "eaccc489-d482-45e5-e2ae-5ecae3f92513",
        "colab": {
          "base_uri": "https://localhost:8080/",
          "height": 34
        }
      },
      "source": [
        "# 有4个词，每个词用5维的向量表示\n",
        "embedding = nn.Embedding(4, 5)\n",
        "# 可以用预训练好的词向量初始化embedding\n",
        "embedding.weight.data = torch.arange(0, 20).view(4, 5)\n",
        "embedding"
      ],
      "execution_count": 0,
      "outputs": [
        {
          "output_type": "execute_result",
          "data": {
            "text/plain": [
              "Embedding(4, 5)"
            ]
          },
          "metadata": {
            "tags": []
          },
          "execution_count": 17
        }
      ]
    },
    {
      "cell_type": "code",
      "metadata": {
        "id": "9gWGnlLcXB7p",
        "colab_type": "code",
        "outputId": "713f7d7c-f448-4679-f520-11ffb7c0e07e",
        "colab": {
          "base_uri": "https://localhost:8080/",
          "height": 68
        }
      },
      "source": [
        "input = torch.arange(3, 0, -1).long()\n",
        "output = embedding(input)\n",
        "output"
      ],
      "execution_count": 0,
      "outputs": [
        {
          "output_type": "execute_result",
          "data": {
            "text/plain": [
              "tensor([[15, 16, 17, 18, 19],\n",
              "        [10, 11, 12, 13, 14],\n",
              "        [ 5,  6,  7,  8,  9]], grad_fn=<EmbeddingBackward>)"
            ]
          },
          "metadata": {
            "tags": []
          },
          "execution_count": 16
        }
      ]
    },
    {
      "cell_type": "markdown",
      "metadata": {
        "id": "fcalsFlGXVwO",
        "colab_type": "text"
      },
      "source": [
        "#### 损失函数\n"
      ]
    },
    {
      "cell_type": "code",
      "metadata": {
        "id": "L38taugDXIG5",
        "colab_type": "code",
        "outputId": "dc943f8f-0385-4047-d8a9-45f915e0d3f4",
        "colab": {
          "base_uri": "https://localhost:8080/",
          "height": 34
        }
      },
      "source": [
        "# batch_size = 3\n",
        "score = torch.randn(3, 2)\n",
        "# 三个样本分别属于1， 0， 1类别，label必须是LongTensor\n",
        "label = torch.tensor([1, 0, 1])\n",
        "\n",
        "# loss与普通的layer无差异\n",
        "criterion = nn.CrossEntropyLoss()\n",
        "loss = criterion(score, label)\n",
        "loss"
      ],
      "execution_count": 0,
      "outputs": [
        {
          "output_type": "execute_result",
          "data": {
            "text/plain": [
              "tensor(0.6955)"
            ]
          },
          "metadata": {
            "tags": []
          },
          "execution_count": 19
        }
      ]
    },
    {
      "cell_type": "markdown",
      "metadata": {
        "id": "qkpV2crfYFlS",
        "colab_type": "text"
      },
      "source": [
        "### 优化器\n",
        "常用优化方法都在 `torch.optim`中。所有的优化方法都是继承基类 `torch.optim.Optimizer`，并实现了自己的优化步骤"
      ]
    },
    {
      "cell_type": "code",
      "metadata": {
        "id": "dLsyzI4CX5n2",
        "colab_type": "code",
        "colab": {}
      },
      "source": [
        "# 首先定义一个LeNet\n",
        "class Net(nn.Module):\n",
        "  def __init__(self):\n",
        "    super(Net, self).__init__()\n",
        "    \n",
        "    self.features = nn.Sequential(\n",
        "        nn.Conv2d(3, 6, 5),\n",
        "        nn.ReLU(),\n",
        "        nn.MaxPool2d(2, 2),\n",
        "        nn.Conv2d(6, 16, 5),\n",
        "        nn.ReLU(),\n",
        "        nn.MaxPool2d(2, 2)\n",
        "    )\n",
        "    \n",
        "    self.classifier = nn.Sequential(\n",
        "        nn.Linear(16 * 5 * 5, 120),\n",
        "        nn.ReLU(),\n",
        "        nn.Linear(120, 84),\n",
        "        nn.ReLU(),\n",
        "        nn.Linear(84, 10)\n",
        "    )\n",
        "    \n",
        "  def forward(self, x):\n",
        "    x = self.features(x)\n",
        "    x = x.view(-1, 16 * 5 * 5)  # 扁平化用于全连接\n",
        "    x = self.classifier(x)\n",
        "    return x"
      ],
      "execution_count": 0,
      "outputs": []
    },
    {
      "cell_type": "code",
      "metadata": {
        "id": "GxhqWTjEZZks",
        "colab_type": "code",
        "colab": {}
      },
      "source": [
        "from torch import optim"
      ],
      "execution_count": 0,
      "outputs": []
    },
    {
      "cell_type": "code",
      "metadata": {
        "id": "H_pqJs-YZlfC",
        "colab_type": "code",
        "colab": {}
      },
      "source": [
        "net = Net()"
      ],
      "execution_count": 0,
      "outputs": []
    },
    {
      "cell_type": "code",
      "metadata": {
        "id": "cnmKv-j5Zrlp",
        "colab_type": "code",
        "colab": {}
      },
      "source": [
        "optimizer = optim.SGD(params=net.parameters(), lr=1)\n",
        "optimizer.zero_grad()  # 梯度清零，等价于net.zero_grad()\n",
        "\n",
        "input = torch.randn(1, 3, 32, 32)\n",
        "output = net(input)\n",
        "output.backward(output)\n",
        "\n",
        "optimizer.step()  # 优化执行，更新参数"
      ],
      "execution_count": 0,
      "outputs": []
    },
    {
      "cell_type": "code",
      "metadata": {
        "id": "xs6zJbPEEjh7",
        "colab_type": "code",
        "outputId": "67831c21-6af0-4352-a593-83a0bd797a3d",
        "colab": {
          "base_uri": "https://localhost:8080/",
          "height": 272
        }
      },
      "source": [
        "# 为不同子网络设置不同的学习率\n",
        "# 如果对某个参数不指定学习率，就使用最外层的默认学习率\n",
        "optimizer = optim.SGD([\n",
        "    {'params': net.features.parameters()}, # 学习率默认 1e-5\n",
        "    {'params': net.classifier.parameters(), 'lr': 1e-2}\n",
        "], lr=1e-5)\n",
        "optimizer"
      ],
      "execution_count": 0,
      "outputs": [
        {
          "output_type": "execute_result",
          "data": {
            "text/plain": [
              "SGD (\n",
              "Parameter Group 0\n",
              "    dampening: 0\n",
              "    lr: 1e-05\n",
              "    momentum: 0\n",
              "    nesterov: False\n",
              "    weight_decay: 0\n",
              "\n",
              "Parameter Group 1\n",
              "    dampening: 0\n",
              "    lr: 0.01\n",
              "    momentum: 0\n",
              "    nesterov: False\n",
              "    weight_decay: 0\n",
              ")"
            ]
          },
          "metadata": {
            "tags": []
          },
          "execution_count": 12
        }
      ]
    },
    {
      "cell_type": "code",
      "metadata": {
        "id": "o087wcp8FVT_",
        "colab_type": "code",
        "outputId": "b8d63b12-a4db-449a-fad4-74dba7dbc4d7",
        "colab": {
          "base_uri": "https://localhost:8080/",
          "height": 272
        }
      },
      "source": [
        "# 只为2个全连接层设置较大的学习率，其余层的学习率较小\n",
        "special_layers = nn.ModuleList([net.classifier[0], net.classifier[3]])\n",
        "special_layers_params = list(map(id, special_layers.parameters()))\n",
        "base_params = filter(lambda p: id(p) not in special_layers_params, net.parameters())\n",
        "\n",
        "optimizer = optim.SGD([\n",
        "    {'params': base_params},\n",
        "    {'params': special_layers.parameters(), 'lr': 0.01}\n",
        "], lr=0.001)\n",
        "optimizer\n"
      ],
      "execution_count": 0,
      "outputs": [
        {
          "output_type": "execute_result",
          "data": {
            "text/plain": [
              "SGD (\n",
              "Parameter Group 0\n",
              "    dampening: 0\n",
              "    lr: 0.001\n",
              "    momentum: 0\n",
              "    nesterov: False\n",
              "    weight_decay: 0\n",
              "\n",
              "Parameter Group 1\n",
              "    dampening: 0\n",
              "    lr: 0.01\n",
              "    momentum: 0\n",
              "    nesterov: False\n",
              "    weight_decay: 0\n",
              ")"
            ]
          },
          "metadata": {
            "tags": []
          },
          "execution_count": 13
        }
      ]
    },
    {
      "cell_type": "markdown",
      "metadata": {
        "id": "lI331BN9GuEE",
        "colab_type": "text"
      },
      "source": [
        "对于调整学习率，主要有两种做法：\n",
        "* 修改optimizer.param_groups中对应的学习率\n",
        "* 新建优化器(推荐)，但是对于使用动量的优化器(如Adam\n",
        ")，会丢失动量等状态信息，可能呢会造成损失函数的收敛出现震荡的情况"
      ]
    },
    {
      "cell_type": "code",
      "metadata": {
        "id": "nl7L5-UOGkGN",
        "colab_type": "code",
        "outputId": "55e454af-536e-4c45-8d9f-2d95ee24e357",
        "colab": {
          "base_uri": "https://localhost:8080/",
          "height": 272
        }
      },
      "source": [
        "# 方法1：调整学习率，重建一个optimizer\n",
        "old_lr = 0.1\n",
        "optimizer1 =optim.SGD([\n",
        "                {'params': net.features.parameters()},\n",
        "                {'params': net.classifier.parameters(), 'lr': old_lr*0.1}\n",
        "            ], lr=1e-5)\n",
        "optimizer1"
      ],
      "execution_count": 0,
      "outputs": [
        {
          "output_type": "execute_result",
          "data": {
            "text/plain": [
              "SGD (\n",
              "Parameter Group 0\n",
              "    dampening: 0\n",
              "    lr: 1e-05\n",
              "    momentum: 0\n",
              "    nesterov: False\n",
              "    weight_decay: 0\n",
              "\n",
              "Parameter Group 1\n",
              "    dampening: 0\n",
              "    lr: 0.010000000000000002\n",
              "    momentum: 0\n",
              "    nesterov: False\n",
              "    weight_decay: 0\n",
              ")"
            ]
          },
          "metadata": {
            "tags": []
          },
          "execution_count": 18
        }
      ]
    },
    {
      "cell_type": "code",
      "metadata": {
        "id": "WCh7xPPxHawe",
        "colab_type": "code",
        "outputId": "f836de18-8c11-498b-925c-08f12042711a",
        "colab": {
          "base_uri": "https://localhost:8080/",
          "height": 272
        }
      },
      "source": [
        "# 方法2： 调整学习率，手动decay，保存动量\n",
        "for param_group in optimizer.param_groups:\n",
        "  param_group['lr'] *= 0.1\n",
        "  \n",
        "optimizer"
      ],
      "execution_count": 0,
      "outputs": [
        {
          "output_type": "execute_result",
          "data": {
            "text/plain": [
              "SGD (\n",
              "Parameter Group 0\n",
              "    dampening: 0\n",
              "    lr: 0.0001\n",
              "    momentum: 0\n",
              "    nesterov: False\n",
              "    weight_decay: 0\n",
              "\n",
              "Parameter Group 1\n",
              "    dampening: 0\n",
              "    lr: 0.001\n",
              "    momentum: 0\n",
              "    nesterov: False\n",
              "    weight_decay: 0\n",
              ")"
            ]
          },
          "metadata": {
            "tags": []
          },
          "execution_count": 19
        }
      ]
    },
    {
      "cell_type": "markdown",
      "metadata": {
        "id": "g3PCkDFGH9zG",
        "colab_type": "text"
      },
      "source": [
        "### nn.functional\n",
        "nn中的大多数layer，在functional中都有一个对应的函数。nn.functional中的函数和nn.Module的主要区别在于，用nn.Module实现的layer是一个特殊的类，都是由`class layer(nn.Module)`定义，会自动提取可学习的参数。而nn.functional中的函数更像是纯函数。有`def function(input)`定义。   \n",
        "如果模型有可学习的参数，最好用nn.Module，否则2者都可以以使用。激活函数和池化层由于没有可学习的参数，可以使用funcation函数代替"
      ]
    },
    {
      "cell_type": "code",
      "metadata": {
        "id": "h_OHgOSDH6af",
        "colab_type": "code",
        "outputId": "c5160939-225c-4ee7-d2dc-fb8247031555",
        "colab": {
          "base_uri": "https://localhost:8080/",
          "height": 51
        }
      },
      "source": [
        "input = torch.randn(2, 3)\n",
        "model = nn.Linear(in_features=3, out_features=4)\n",
        "output1 = model(input)\n",
        "output2 = nn.functional.linear(input, model.weight, model.bias)\n",
        "output1 == output2"
      ],
      "execution_count": 0,
      "outputs": [
        {
          "output_type": "execute_result",
          "data": {
            "text/plain": [
              "tensor([[1, 1, 1, 1],\n",
              "        [1, 1, 1, 1]], dtype=torch.uint8)"
            ]
          },
          "metadata": {
            "tags": []
          },
          "execution_count": 21
        }
      ]
    },
    {
      "cell_type": "code",
      "metadata": {
        "id": "dbDc5fFQJGxc",
        "colab_type": "code",
        "colab": {}
      },
      "source": [
        "nn.functional.linear??"
      ],
      "execution_count": 0,
      "outputs": []
    },
    {
      "cell_type": "code",
      "metadata": {
        "id": "yuYlBvVuJckB",
        "colab_type": "code",
        "outputId": "bc67e899-6791-4629-c9c6-a0b65f661700",
        "colab": {
          "base_uri": "https://localhost:8080/",
          "height": 51
        }
      },
      "source": [
        "b1 = nn.functional.relu(input)\n",
        "b2 = nn.ReLU()(input)\n",
        "b1 == b2"
      ],
      "execution_count": 0,
      "outputs": [
        {
          "output_type": "execute_result",
          "data": {
            "text/plain": [
              "tensor([[1, 1, 1],\n",
              "        [1, 1, 1]], dtype=torch.uint8)"
            ]
          },
          "metadata": {
            "tags": []
          },
          "execution_count": 24
        }
      ]
    },
    {
      "cell_type": "code",
      "metadata": {
        "id": "G1gyRr0AJxXF",
        "colab_type": "code",
        "colab": {}
      },
      "source": [
        "from torch.nn import functional as F"
      ],
      "execution_count": 0,
      "outputs": []
    },
    {
      "cell_type": "code",
      "metadata": {
        "id": "93EeG3dTKZrc",
        "colab_type": "code",
        "colab": {}
      },
      "source": [
        "class Net(nn.Module):\n",
        "  def __init__(self):\n",
        "    super(Net, self).__init__()\n",
        "    \n",
        "    self.conv1 = nn.Conv2d(in_channels=3, out_channels=6, kernel_size=5)\n",
        "    self.conv2 = nn.Conv2d(in_channels=6, out_channels=16, kernel_size=5)\n",
        "    \n",
        "    self.fc1 = nn.Linear(16 * 5 * 5, 120)\n",
        "    self.fc2 = nn.Linear(120, 84)\n",
        "    self.fc3 = nn.Linear(84, 10)\n",
        "    \n",
        "  def forward(self, x):\n",
        "    x = F.pool(F.relu(self.conv1(x)), 2)\n",
        "    x = F.pool(F.relu(self.conv2(x)), 2)\n",
        "    x = x.view(-1, 16 * 5 * 5)\n",
        "    x = F.relu(self.fc1(x))\n",
        "    x = F.relu(self.fc2(x))\n",
        "    x = self.fc3(x)\n",
        "    return x"
      ],
      "execution_count": 0,
      "outputs": []
    },
    {
      "cell_type": "code",
      "metadata": {
        "id": "7DA-Fn56LHk-",
        "colab_type": "code",
        "colab": {}
      },
      "source": [
        "class MyLinear(nn.Module):\n",
        "  def __init__(self):\n",
        "    super(MyLinear, self).__init__()\n",
        "    \n",
        "    self.weight = nn.Parameter(torch.randn(3, 4))\n",
        "    self.bias = nn.Parameter(torch.zeros(3))\n",
        "    \n",
        "  def forward(self, x):\n",
        "    return F.linear(input, self.weight, self.bias)"
      ],
      "execution_count": 0,
      "outputs": []
    },
    {
      "cell_type": "markdown",
      "metadata": {
        "id": "rdWqrPMr1ss4",
        "colab_type": "text"
      },
      "source": [
        "### 初始化策略\n",
        "参数初始化"
      ]
    },
    {
      "cell_type": "code",
      "metadata": {
        "id": "7465yhvmLjjI",
        "colab_type": "code",
        "colab": {}
      },
      "source": [
        "# 利用nn.init初始化\n",
        "from torch.nn import init"
      ],
      "execution_count": 0,
      "outputs": []
    },
    {
      "cell_type": "code",
      "metadata": {
        "id": "fTlXwOIF12rW",
        "colab_type": "code",
        "outputId": "8224d10e-3903-4744-b40b-a10a8624350c",
        "colab": {
          "base_uri": "https://localhost:8080/",
          "height": 102
        }
      },
      "source": [
        "linear = nn.Linear(3, 4)\n",
        "\n",
        "torch.manual_seed(1)\n",
        "# 等价于linear.weight.data.normal_(0, std)\n",
        "init.xavier_normal_(linear.weight)"
      ],
      "execution_count": 0,
      "outputs": [
        {
          "output_type": "execute_result",
          "data": {
            "text/plain": [
              "Parameter containing:\n",
              "tensor([[ 0.3535,  0.1427,  0.0330],\n",
              "        [ 0.3321, -0.2416, -0.0888],\n",
              "        [-0.8140,  0.2040, -0.5493],\n",
              "        [-0.3010, -0.4769, -0.0311]], requires_grad=True)"
            ]
          },
          "metadata": {
            "tags": []
          },
          "execution_count": 5
        }
      ]
    },
    {
      "cell_type": "code",
      "metadata": {
        "id": "zuLLzD8D2LS5",
        "colab_type": "code",
        "colab": {}
      },
      "source": [
        "# 直接初始化\n",
        "import math"
      ],
      "execution_count": 0,
      "outputs": []
    },
    {
      "cell_type": "code",
      "metadata": {
        "id": "7oaR_H2w2U8g",
        "colab_type": "code",
        "outputId": "f512b2b4-b350-4fb4-fe27-94e88c9b899e",
        "colab": {
          "base_uri": "https://localhost:8080/",
          "height": 85
        }
      },
      "source": [
        "torch.manual_seed(1)\n",
        "\n",
        "# xzvier初始化的计算公式\n",
        "std = math.sqrt(2) / math.sqrt(7.)\n",
        "linear.weight.data.normal_(0, std)"
      ],
      "execution_count": 0,
      "outputs": [
        {
          "output_type": "execute_result",
          "data": {
            "text/plain": [
              "tensor([[ 0.3535,  0.1427,  0.0330],\n",
              "        [ 0.3321, -0.2416, -0.0888],\n",
              "        [-0.8140,  0.2040, -0.5493],\n",
              "        [-0.3010, -0.4769, -0.0311]])"
            ]
          },
          "metadata": {
            "tags": []
          },
          "execution_count": 7
        }
      ]
    },
    {
      "cell_type": "code",
      "metadata": {
        "id": "P_Bs0_N42ihR",
        "colab_type": "code",
        "colab": {}
      },
      "source": [
        "# 对模型的所有参数进行初始化\n",
        "for name, params in net.named_parameters():\n",
        "  if name.find('linear') != -1:\n",
        "    # init linear\n",
        "    params[0] # weight\n",
        "    params[1] # bias\n",
        "  elif name.find('conv') != -1:\n",
        "    pass\n",
        "  elif name.find('norm') != -1:\n",
        "    pass"
      ],
      "execution_count": 0,
      "outputs": []
    },
    {
      "cell_type": "markdown",
      "metadata": {
        "id": "q0NBLofO3fu6",
        "colab_type": "text"
      },
      "source": [
        "### nn.Module深入分析"
      ]
    },
    {
      "cell_type": "code",
      "metadata": {
        "id": "Wv0W37tS2rzu",
        "colab_type": "code",
        "colab": {}
      },
      "source": [
        "class Net(nn.Module):\n",
        "  def __init__(self):\n",
        "    super(Net, self).__init__()\n",
        "    \n",
        "    # 等价于self.register_parameter('param1', nn.Parameter(torch.randn(3, 3)))\n",
        "    self.param1 = nn.Parameter(torch.rand(3, 3))\n",
        "    self.bias = nn.Parameter(torch.randn(3))\n",
        "    self.submodel1 = nn.Linear(3, 4)\n",
        "    \n",
        "  def forward(self, x):\n",
        "    x = self.param1.mm(input)\n",
        "    x = self.submodel1(x)\n",
        "    return"
      ],
      "execution_count": 0,
      "outputs": []
    },
    {
      "cell_type": "code",
      "metadata": {
        "id": "9PKUQKIH372Y",
        "colab_type": "code",
        "outputId": "5567a4e8-fa73-42ce-8fe3-a36e0de2bb73",
        "colab": {
          "base_uri": "https://localhost:8080/",
          "height": 68
        }
      },
      "source": [
        "net = Net()\n",
        "net"
      ],
      "execution_count": 0,
      "outputs": [
        {
          "output_type": "execute_result",
          "data": {
            "text/plain": [
              "Net(\n",
              "  (submodel1): Linear(in_features=3, out_features=4, bias=True)\n",
              ")"
            ]
          },
          "metadata": {
            "tags": []
          },
          "execution_count": 18
        }
      ]
    },
    {
      "cell_type": "code",
      "metadata": {
        "id": "kNFY4sYK4jw_",
        "colab_type": "code",
        "outputId": "03d19613-f4af-47f7-923f-77bc609745e7",
        "colab": {
          "base_uri": "https://localhost:8080/",
          "height": 34
        }
      },
      "source": [
        "net._modules"
      ],
      "execution_count": 0,
      "outputs": [
        {
          "output_type": "execute_result",
          "data": {
            "text/plain": [
              "OrderedDict([('submodel1', Linear(in_features=3, out_features=4, bias=True))])"
            ]
          },
          "metadata": {
            "tags": []
          },
          "execution_count": 19
        }
      ]
    },
    {
      "cell_type": "code",
      "metadata": {
        "id": "hI0uUBSD4myB",
        "colab_type": "code",
        "outputId": "6548079f-b1a9-4ca6-b4a7-2cc44cfe61fe",
        "colab": {
          "base_uri": "https://localhost:8080/",
          "height": 119
        }
      },
      "source": [
        "net._parameters"
      ],
      "execution_count": 0,
      "outputs": [
        {
          "output_type": "execute_result",
          "data": {
            "text/plain": [
              "OrderedDict([('param1', Parameter containing:\n",
              "              tensor([[0.5239, 0.7981, 0.7718],\n",
              "                      [0.0112, 0.8100, 0.6397],\n",
              "                      [0.9743, 0.8300, 0.0444]], requires_grad=True)),\n",
              "             ('bias', Parameter containing:\n",
              "              tensor([ 0.3935,  1.1322, -0.5404], requires_grad=True))])"
            ]
          },
          "metadata": {
            "tags": []
          },
          "execution_count": 20
        }
      ]
    },
    {
      "cell_type": "code",
      "metadata": {
        "id": "_tIQ2WXi4qzK",
        "colab_type": "code",
        "outputId": "e10ad976-16ff-4b3f-ac7f-63906e85d944",
        "colab": {
          "base_uri": "https://localhost:8080/",
          "height": 51
        }
      },
      "source": [
        "# 等价于net._parameters['bias']\n",
        "net.bias"
      ],
      "execution_count": 0,
      "outputs": [
        {
          "output_type": "execute_result",
          "data": {
            "text/plain": [
              "Parameter containing:\n",
              "tensor([ 0.3935,  1.1322, -0.5404], requires_grad=True)"
            ]
          },
          "metadata": {
            "tags": []
          },
          "execution_count": 23
        }
      ]
    },
    {
      "cell_type": "code",
      "metadata": {
        "id": "BOyNBEj947We",
        "colab_type": "code",
        "outputId": "ce08d91b-f301-4e17-a4ed-13d8f96fa4da",
        "colab": {
          "base_uri": "https://localhost:8080/",
          "height": 85
        }
      },
      "source": [
        "for name, param in net.named_parameters():\n",
        "    print(name, param.size())"
      ],
      "execution_count": 0,
      "outputs": [
        {
          "output_type": "stream",
          "text": [
            "param1 torch.Size([3, 3])\n",
            "bias torch.Size([3])\n",
            "submodel1.weight torch.Size([4, 3])\n",
            "submodel1.bias torch.Size([4])\n"
          ],
          "name": "stdout"
        }
      ]
    },
    {
      "cell_type": "code",
      "metadata": {
        "id": "qeGOWk3O5HxY",
        "colab_type": "code",
        "outputId": "17522427-a108-4a94-f878-30ed97a72621",
        "colab": {
          "base_uri": "https://localhost:8080/",
          "height": 85
        }
      },
      "source": [
        "for  name, submodel in net.named_modules():\n",
        "  print(name, submodel)"
      ],
      "execution_count": 0,
      "outputs": [
        {
          "output_type": "stream",
          "text": [
            " Net(\n",
            "  (submodel1): Linear(in_features=3, out_features=4, bias=True)\n",
            ")\n",
            "submodel1 Linear(in_features=3, out_features=4, bias=True)\n"
          ],
          "name": "stdout"
        }
      ]
    },
    {
      "cell_type": "code",
      "metadata": {
        "id": "kGGblb-F5c_s",
        "colab_type": "code",
        "outputId": "825928c8-fb18-4f0b-9df5-d7c15f46da1e",
        "colab": {
          "base_uri": "https://localhost:8080/",
          "height": 68
        }
      },
      "source": [
        "bn = nn.BatchNorm1d(2)\n",
        "input = torch.randn(3, 2)\n",
        "output = bn(input)\n",
        "bn._buffers"
      ],
      "execution_count": 0,
      "outputs": [
        {
          "output_type": "execute_result",
          "data": {
            "text/plain": [
              "OrderedDict([('running_mean', tensor([0.0403, 0.0039])),\n",
              "             ('running_var', tensor([1.0305, 1.1057])),\n",
              "             ('num_batches_tracked', tensor(1))])"
            ]
          },
          "metadata": {
            "tags": []
          },
          "execution_count": 2
        }
      ]
    },
    {
      "cell_type": "code",
      "metadata": {
        "id": "jNp-mAV05uDM",
        "colab_type": "code",
        "colab": {}
      },
      "source": [
        "# 运行该段代码colab会异常崩溃\n",
        "input = torch.arange(0, 12).view(3, 4)\n",
        "model = nn.Dropout()\n",
        "# 在训练阶段，会有一半左右的数被随机置为0\n",
        "model(input)"
      ],
      "execution_count": 0,
      "outputs": []
    },
    {
      "cell_type": "markdown",
      "metadata": {
        "id": "wHT_SbgJ7qto",
        "colab_type": "text"
      },
      "source": [
        "### 搭建ResNet"
      ]
    },
    {
      "cell_type": "code",
      "metadata": {
        "id": "upvyJ0sH5_uL",
        "colab_type": "code",
        "colab": {}
      },
      "source": [
        "import torch\n",
        "from torch import nn\n",
        "from torch.nn import functional as F"
      ],
      "execution_count": 0,
      "outputs": []
    },
    {
      "cell_type": "code",
      "metadata": {
        "id": "SFt5KJIV8L2h",
        "colab_type": "code",
        "colab": {}
      },
      "source": [
        "class ResidualBlock(nn.Module):\n",
        "  \"\"\"实现submodule Residual Block\"\"\"\n",
        "  def __init__(self, in_channel, out_channel, stride=1, shortcut=None):\n",
        "    super(ResidualBlock, self).__init__()\n",
        "    \n",
        "    self.left = nn.Sequential(\n",
        "        nn.Conv2d(in_channel, out_channel, 3, stride, 1, bias = False),\n",
        "        nn.BatchNorm2d(out_channel),\n",
        "        nn.ReLU(inplace=True),\n",
        "        nn.Conv2d(out_channel, out_channel, 3, 1, 1, bias=False),\n",
        "        nn.BatchNorm2d(out_channel)\n",
        "    )\n",
        "    \n",
        "    self.right = shortcut\n",
        "  \n",
        "  def forward(self, x):\n",
        "    out = self.left(x)\n",
        "    residual = x if self.right is None else self.right(x)\n",
        "    out += residual\n",
        "    return F.relu(out)\n",
        "    \n",
        "    "
      ],
      "execution_count": 0,
      "outputs": []
    },
    {
      "cell_type": "code",
      "metadata": {
        "id": "vpqGtjIS9cEx",
        "colab_type": "code",
        "colab": {}
      },
      "source": [
        "class ResNet(nn.Module):\n",
        "  \"\"\"\n",
        "  实现主Module：ResNet34\n",
        "  包含多个layer，每个layer又包含多个residual_block\n",
        "  用子module来实现 residual block,用_make_layer函数来实现layer\n",
        "  \"\"\"\n",
        "  def __init__(self, num_classes=100):\n",
        "    super(ResNet, self).__init__()\n",
        "    \n",
        "    # 前几层图像转换\n",
        "    self.pre = nn.Sequential(\n",
        "        nn.Conv2d(3, 64, 7, 2, 3, bias=True),\n",
        "        nn.BatchNorm2d(64),\n",
        "        nn.ReLU(inplace=True),\n",
        "        nn.MaxPool2d(kernel_size=3, stride=2, padding=1)\n",
        "    )\n",
        "    \n",
        "    # 重复的layer，分别有3， 4， 6， 3个residual block\n",
        "    self.layer1 = self._make_layer(64, 64, 3)\n",
        "    self.layer2 = self._make_layer(64, 128, 4, stride=2)\n",
        "    self.layer3 = self._make_layer(128, 256, 6, stride=2)\n",
        "    self.layer4 = self._make_layer(256, 512, 3, stride=2)\n",
        "    \n",
        "    # 分类用的全连接\n",
        "    self.fc = nn.Linear(512, num_classes)\n",
        "    \n",
        "  def _make_layer(self, in_channel, out_channel, block_num, stride=1):\n",
        "    \"\"\"构建layer，包含多个residual block\"\"\"\n",
        "    shortcut = nn.Sequential(\n",
        "        nn.Conv2d(in_channel, out_channel, 1, stride, bias=False),\n",
        "        nn.BatchNorm2d(out_channel)\n",
        "    )\n",
        "    \n",
        "    layers = []\n",
        "    layers.append(ResidualBlock(in_channel, out_channel, stride, shortcut))\n",
        "    \n",
        "    for i in range(1, block_num):\n",
        "      layers.append(ResidualBlock(out_channel, out_channel))\n",
        "    \n",
        "    return nn.Sequential(*layers)\n",
        "  \n",
        "  def forward(self, x):\n",
        "    x = self.pre(x)\n",
        "    \n",
        "    x = self.layer1(x)\n",
        "    x = self.layer2(x)\n",
        "    x = self.layer3(x)\n",
        "    x = self.layer4(x)\n",
        "    \n",
        "    x = F.avg_pool2d(x, 7)\n",
        "    x = x.view(x.size(0), -1)\n",
        "    return self.fc(x)"
      ],
      "execution_count": 0,
      "outputs": []
    },
    {
      "cell_type": "code",
      "metadata": {
        "id": "p35TqW2A9mWP",
        "colab_type": "code",
        "colab": {}
      },
      "source": [
        "model = ResNet()\n",
        "input = torch.randn(1, 3, 224, 224)\n",
        "output = model(input)"
      ],
      "execution_count": 0,
      "outputs": []
    },
    {
      "cell_type": "code",
      "metadata": {
        "id": "Qr1ed0HjCWLO",
        "colab_type": "code",
        "colab": {
          "base_uri": "https://localhost:8080/",
          "height": 238
        },
        "outputId": "01062d90-7249-433d-8b62-0be56fc7c6fb"
      },
      "source": [
        "output"
      ],
      "execution_count": 24,
      "outputs": [
        {
          "output_type": "execute_result",
          "data": {
            "text/plain": [
              "tensor([[-0.2890,  0.5216,  0.7710,  0.5015,  0.1955,  0.6991, -0.0245, -0.1566,\n",
              "         -0.5020,  0.1732, -0.1994, -0.3578,  0.0296, -0.0944, -0.0721,  0.3174,\n",
              "         -0.4324,  0.0604, -0.4839,  0.0880, -0.0830, -0.3962,  0.2165, -0.3277,\n",
              "          0.1987,  0.0030, -0.1002, -0.0464,  0.4073, -0.2950, -0.1015,  0.4034,\n",
              "         -0.2374, -0.5320,  0.3112, -0.4248,  0.3040,  0.3917,  0.0408, -0.0903,\n",
              "          0.3095,  0.0497, -0.4211, -0.2971, -0.2343, -0.1176, -0.1344,  0.3847,\n",
              "          0.6369,  0.1296, -0.1054, -0.2002, -0.3766,  0.1002,  0.4726,  0.0129,\n",
              "          0.5805, -0.1693, -0.6229, -0.3489, -0.1278, -0.0913, -0.5395,  0.2532,\n",
              "          0.2780, -0.4201, -0.1757, -0.2961, -0.3401,  0.3565,  0.1716,  0.1620,\n",
              "          0.4715, -0.3719, -0.1365, -0.0503, -0.3875, -0.3982,  0.0114,  0.6092,\n",
              "         -0.0024, -0.5364, -0.0747,  0.1837,  0.1240, -0.0471,  0.1605,  1.0079,\n",
              "          0.0634, -0.3735,  0.2831, -0.0393,  0.1427, -0.1023,  0.2068,  0.0800,\n",
              "          0.0543, -0.3827,  0.4593,  0.1031]], grad_fn=<AddmmBackward>)"
            ]
          },
          "metadata": {
            "tags": []
          },
          "execution_count": 24
        }
      ]
    },
    {
      "cell_type": "code",
      "metadata": {
        "id": "aFggJzaiHIVa",
        "colab_type": "code",
        "colab": {}
      },
      "source": [
        ""
      ],
      "execution_count": 0,
      "outputs": []
    }
  ]
}